{
 "cells": [
  {
   "cell_type": "raw",
   "id": "e0aedc9b-4126-46c5-a8f0-e8ee618e9eb4",
   "metadata": {},
   "source": [
    "Q1. In Python 3.X, what are the names and functions of string object types?\n",
    "\n",
    "          In Python 3.X and later, String objects has bulit in class named as \"str\" and it is used to store characters in memory in encoded format."
   ]
  },
  {
   "cell_type": "raw",
   "id": "65f5aa1c-0684-49f7-8ccf-f040abbc46c8",
   "metadata": {},
   "source": [
    "Q2. How do the string forms in Python 3.X vary in terms of operations?\n",
    "\n",
    "        Python supports ASCII as a subset of Unicode. The default encoding of characters in Python is UTF-8 (Unicode Transformation Format - 8-bit).ASCII is really a 7-bit character set; it is mapped to 8-bit bytes by setting the high bit to zero. Thus, ASCII characters are unchanged in UTF-8. A non-zero high bit indicates that a character composed of multiple bytes.\n"
   ]
  },
  {
   "cell_type": "code",
   "execution_count": 1,
   "id": "d9c475bf-9f07-465b-b260-4859cde885f7",
   "metadata": {},
   "outputs": [
    {
     "name": "stdout",
     "output_type": "stream",
     "text": [
      "97\n"
     ]
    }
   ],
   "source": [
    "u = 'brillia'\n",
    "print(ord(u[-1]))"
   ]
  },
  {
   "cell_type": "raw",
   "id": "093d902c-b2cb-4825-824b-a3e1c18ab0df",
   "metadata": {},
   "source": [
    "Q3. In 3.X, how do you put non-ASCII Unicode characters in a string?\n",
    "\n",
    "        As we know, there are only 127 ASCII characters in ascii table. It stores symbols, letters, whitespace characters, non printable characters, which are very less. So Python 3 has adopted unicode encoding of strings. for non ASCII you can get any value more than 127."
   ]
  },
  {
   "cell_type": "code",
   "execution_count": 2,
   "id": "fd084daa-b3bb-40a2-aaca-f78ad34779c1",
   "metadata": {},
   "outputs": [
    {
     "name": "stdout",
     "output_type": "stream",
     "text": [
      "Brillia©\n"
     ]
    }
   ],
   "source": [
    "s = 'Brillia'\n",
    "\n",
    "s += chr(128)+chr(169)\n",
    "print(s)"
   ]
  },
  {
   "cell_type": "raw",
   "id": "7aeea5e0-218e-4e03-8582-e394b8227421",
   "metadata": {},
   "source": [
    "Q4. In Python 3.X, what are the key differences between text-mode and binary-mode files?\n",
    "\n",
    "         Files opened in binary mode (appending 'b' to the mode argument) return contents as bytes objects without any decoding. In text mode (the default, or when 't' is appended to the mode argument), the contents of the file are returned as strings, the bytes having been first decoded using a platform-dependent encoding or using the specified encoding if given."
   ]
  },
  {
   "cell_type": "raw",
   "id": "f7265003-8b6c-4360-ab5d-9a964b998f6d",
   "metadata": {},
   "source": [
    "Q5. How can you interpret a Unicode text file containing text encoded in a different encoding than your platform's default?\n",
    "\n",
    "       While reading file, we can specify the encoding such as(utf16, utf32), so the file will be decoded according to that encoding and results are returned to the user."
   ]
  },
  {
   "cell_type": "code",
   "execution_count": 3,
   "id": "260f3d4c-a2c8-4024-8f4f-89e293ffcc93",
   "metadata": {},
   "outputs": [
    {
     "name": "stdout",
     "output_type": "stream",
     "text": [
      "this is sample text file for understanding encoding\n"
     ]
    }
   ],
   "source": [
    "text = \"this is sample text file for understanding encoding\"\n",
    "f = open('sample.txt','w', encoding='utf16')\n",
    "f.write(text)\n",
    "f.close()\n",
    "\n",
    "f = open('sample.txt','r', encoding='utf16')\n",
    "print(f.read())"
   ]
  },
  {
   "cell_type": "code",
   "execution_count": 4,
   "id": "a8bcd16c-8641-4b69-8f82-1a585f829e5c",
   "metadata": {},
   "outputs": [
    {
     "name": "stdout",
     "output_type": "stream",
     "text": [
      "எப்படி இருக்கிறீர்கள்\n"
     ]
    }
   ],
   "source": [
    "text = 'எப்படி இருக்கிறீர்கள்'\n",
    "encoded_data = text.encode(\"utf16\")\n",
    "\n",
    "file = open(\"sample1.txt\", \"wb\")\n",
    "file.write(encoded_data)\n",
    "\n",
    "file = open(\"sample1.txt\", \"r\", encoding='utf16')\n",
    "\n",
    "print(file.read())"
   ]
  },
  {
   "cell_type": "raw",
   "id": "ab1d4bfd-d520-4c29-a7cc-13a5b3a3182d",
   "metadata": {},
   "source": [
    "Q6. What is the best way to make a Unicode text file in a particular encoding format?\n",
    "\n",
    "         You should either use normal open() and encode the unicode yourself, or (usually a better idea) use codecs. open() and not encode the data yourself."
   ]
  },
  {
   "cell_type": "raw",
   "id": "a4be0af2-21f9-4649-b482-7446bd0bc2c8",
   "metadata": {},
   "source": [
    "Q7. What qualifies ASCII text as a form of Unicode text?\n",
    "\n",
    "          The first 128 Unicode code points represent the equivalent ASCII characters. They have the same meaning in both ASCII and unicode. Since UTF-8 encodes each of these characters with a single byte, any ASCII text is also a UTF-8 text. Unicode is a superset of ASCII."
   ]
  },
  {
   "cell_type": "raw",
   "id": "0e122579-e7f2-4e6c-8e2d-e957a484de2c",
   "metadata": {},
   "source": [
    "Q8. How much of an effect does the change in string types in Python 3.X have on your code?\n",
    "\n",
    "        In Python 3.X and later, there is only one string type that is unicode. So no effect on the code."
   ]
  }
 ],
 "metadata": {
  "kernelspec": {
   "display_name": "Python 3 (ipykernel)",
   "language": "python",
   "name": "python3"
  },
  "language_info": {
   "codemirror_mode": {
    "name": "ipython",
    "version": 3
   },
   "file_extension": ".py",
   "mimetype": "text/x-python",
   "name": "python",
   "nbconvert_exporter": "python",
   "pygments_lexer": "ipython3",
   "version": "3.10.6"
  }
 },
 "nbformat": 4,
 "nbformat_minor": 5
}
